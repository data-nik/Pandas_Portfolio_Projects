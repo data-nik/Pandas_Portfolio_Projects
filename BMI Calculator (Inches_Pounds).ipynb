{
 "cells": [
  {
   "cell_type": "markdown",
   "id": "ff9490fe",
   "metadata": {},
   "source": [
    "# BMI Calculator (Inches/Pounds) "
   ]
  },
  {
   "cell_type": "code",
   "execution_count": 1,
   "id": "88490cf8",
   "metadata": {},
   "outputs": [
    {
     "name": "stdout",
     "output_type": "stream",
     "text": [
      "What is your name? Nicholas\n",
      "How much do you weight in pounds? 160\n",
      "How tall are you in inches? 73\n",
      "21.1071495590167\n",
      "Nicholas, you are normal weight\n"
     ]
    }
   ],
   "source": [
    "name = input('What is your name? ')\n",
    "\n",
    "weight = int(input('How much do you weight in pounds? '))\n",
    "\n",
    "height = int(input('How tall are you in inches? '))\n",
    "\n",
    "bmi = (weight * 703) / (height * height)\n",
    "\n",
    "print(bmi)\n",
    "\n",
    "if bmi > 0:\n",
    "    if(bmi<18.5):\n",
    "        print(name + ', you are under weight')\n",
    "    elif(bmi<=24.9):\n",
    "        print(name + ', you are normal weight')\n",
    "    elif(bmi<29.9):\n",
    "        print(name + ',you are over weight')\n",
    "    elif(bmi<34.9):\n",
    "        print(name + ',you need to seek a health professional')\n",
    "    elif(bmi<39.9):\n",
    "        print(name + ',you are dangerously overweight')\n",
    "    else:\n",
    "        print('SEEK MEDICAL ATTENTION NOW')"
   ]
  },
  {
   "cell_type": "code",
   "execution_count": null,
   "id": "e8ede570",
   "metadata": {},
   "outputs": [],
   "source": []
  }
 ],
 "metadata": {
  "kernelspec": {
   "display_name": "Python 3 (ipykernel)",
   "language": "python",
   "name": "python3"
  },
  "language_info": {
   "codemirror_mode": {
    "name": "ipython",
    "version": 3
   },
   "file_extension": ".py",
   "mimetype": "text/x-python",
   "name": "python",
   "nbconvert_exporter": "python",
   "pygments_lexer": "ipython3",
   "version": "3.11.5"
  }
 },
 "nbformat": 4,
 "nbformat_minor": 5
}
