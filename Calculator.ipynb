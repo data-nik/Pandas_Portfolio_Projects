{
 "cells": [
  {
   "cell_type": "markdown",
   "id": "84a81732",
   "metadata": {},
   "source": [
    "# Calculator "
   ]
  },
  {
   "cell_type": "code",
   "execution_count": null,
   "id": "5c39189e",
   "metadata": {},
   "outputs": [
    {
     "name": "stdout",
     "output_type": "stream",
     "text": [
      "Enter 'A', for Addition.\n",
      "Enter 'S', for Subtraction.\n",
      "Enter 'D', for Division.\n",
      "Enter 'M', for Multiplication.\n"
     ]
    }
   ],
   "source": [
    "print(\"Enter 'A', for Addition.\")\n",
    "print(\"Enter 'S', for Subtraction.\")\n",
    "print(\"Enter 'D', for Division.\")\n",
    "print(\"Enter 'M', for Multiplication.\")\n",
    "\n",
    "\n",
    "while True:\n",
    "    choice = input('Enter choice (A,S,M,D): ')    \n",
    "    \n",
    "    if choice.upper() in ('A', 'ADD', 'ADDITION', 'S', 'SUBTRACT', 'SUBTRACTION', 'M', 'MULTIPLY', 'MULTIPLICATION', 'D', 'DIVIDE', 'DIVISION'):\n",
    "        num1 = int(input('Enter first number: '))\n",
    "        num2 = int(input('Enter second number: '))\n",
    "\n",
    "        if choice.upper() in ('A', 'ADD', 'ADDITION'):\n",
    "            print('Result:', num1, '+', num2, '=', add(num1,num2))\n",
    "\n",
    "        elif choice.upper() in ('S', 'SUBTRACT', 'SUBTRACTION'):\n",
    "            print('Result:', num1, '-', num2, '=', subtract(num1,num2))\n",
    "\n",
    "        elif choice.upper() in ('M', 'MULTIPLY', 'MULTIPLICATION'):\n",
    "            print('Result:', num1, '*', num2, '=', multiply(num1,num2))\n",
    "\n",
    "        elif choice.upper() in ('D', 'DIVIDE', 'DIVISION'):\n",
    "            print('Result:', num1, '/', num2, '=', divide(num1,num2))\n",
    "\n",
    "        else:\n",
    "            print('Please input a correct choice.')\n",
    "\n",
    "    else:\n",
    "        print('Please input a correct choice.')\n",
    "\n",
    "    next_calculation = input('Would you like to do another calculation? (Yes/No): ')\n",
    "    if next_calculation.lower() in ('no', 'n', 'nope'):\n",
    "        break"
   ]
  },
  {
   "cell_type": "code",
   "execution_count": null,
   "id": "281631da",
   "metadata": {},
   "outputs": [],
   "source": []
  }
 ],
 "metadata": {
  "kernelspec": {
   "display_name": "Python 3 (ipykernel)",
   "language": "python",
   "name": "python3"
  },
  "language_info": {
   "codemirror_mode": {
    "name": "ipython",
    "version": 3
   },
   "file_extension": ".py",
   "mimetype": "text/x-python",
   "name": "python",
   "nbconvert_exporter": "python",
   "pygments_lexer": "ipython3",
   "version": "3.11.5"
  }
 },
 "nbformat": 4,
 "nbformat_minor": 5
}
