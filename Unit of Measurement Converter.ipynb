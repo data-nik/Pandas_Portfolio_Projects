{
 "cells": [
  {
   "cell_type": "code",
   "execution_count": 2,
   "id": "7e840be6",
   "metadata": {},
   "outputs": [
    {
     "name": "stdout",
     "output_type": "stream",
     "text": [
      "Enter starting unit of measurement (inches, feet, yards): ft\n",
      "Enter unit of measurement to convert to (inches, feet, yards): in\n",
      "Enter starting measurement in feet: 99\n",
      "Result: 99 feet = 1188 inches\n"
     ]
    }
   ],
   "source": [
    "convert_from = input('Enter starting unit of measurement (inches, feet, yards): ')\n",
    "\n",
    "convert_to = input('Enter unit of measurement to convert to (inches, feet, yards): ')\n",
    "\n",
    "\n",
    "if convert_from.lower() in ['inches', 'in', 'inch']:\n",
    "    number_of_inches = int(input('Enter starting measurement in inches: '))\n",
    "    if convert_to.lower() in ['feet', 'ft', 'foot']:\n",
    "        print('Result: ' + str(number_of_inches) + ' inches = ' + str(round(number_of_inches / 12, 2)) + ' feet')\n",
    "    elif convert_to.lower() in ['yards', 'yd', 'yds', 'yard']:\n",
    "        print('Result: ' + str(number_of_inches) + ' inches = ' + str(round(number_of_inches / 36, 2)) + ' yards')\n",
    "    else:\n",
    "        print('Please enter either inches, feet, or yards.')\n",
    "elif convert_from.lower() in ['feet', 'ft', 'foot']:\n",
    "    number_of_feet = int(input('Enter starting measurement in feet: '))\n",
    "    if convert_to.lower() in ['inches', 'in', 'inch']:\n",
    "        print('Result: ' + str(number_of_feet) + ' feet = ' + str(round(number_of_feet * 12)) + ' inches')\n",
    "    elif convert_to.lower() in ['yards', 'yd', 'yds', 'yard']:\n",
    "        print('Result: ' + str(number_of_feet) + ' feet = ' + str(round(number_of_feet / 3, 2)) + ' yards')\n",
    "    else:\n",
    "        print('Please enter either inches, feet, or yards.')   \n",
    "elif convert_from.lower() in ['yards', 'yd', 'yds', 'yard']:\n",
    "    number_of_yards = int(input('Enter starting measurement in yards: '))\n",
    "    if convert_to.lower() in ['inches', 'in', 'inch']:\n",
    "        print('Result: ' + str(number_of_yards) + ' yards = ' + str(round(number_of_yards * 36)) + ' inches')\n",
    "    elif convert_to.lower() in ['feet', 'ft', 'foot']:\n",
    "        print('Result: ' + str(number_of_yards) + ' yards = ' + str(round(number_of_yards * 3)) + ' feet')\n",
    "    else:\n",
    "        print('Please enter either inches, feet, or yards.')\n",
    "else:\n",
    "    print('Please enter either inches, feet, or yards.')"
   ]
  },
  {
   "cell_type": "code",
   "execution_count": null,
   "id": "3f397cc7",
   "metadata": {},
   "outputs": [],
   "source": []
  }
 ],
 "metadata": {
  "kernelspec": {
   "display_name": "Python 3 (ipykernel)",
   "language": "python",
   "name": "python3"
  },
  "language_info": {
   "codemirror_mode": {
    "name": "ipython",
    "version": 3
   },
   "file_extension": ".py",
   "mimetype": "text/x-python",
   "name": "python",
   "nbconvert_exporter": "python",
   "pygments_lexer": "ipython3",
   "version": "3.11.5"
  }
 },
 "nbformat": 4,
 "nbformat_minor": 5
}
